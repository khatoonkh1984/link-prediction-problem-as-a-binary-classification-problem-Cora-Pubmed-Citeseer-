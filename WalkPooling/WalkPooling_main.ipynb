{
 "cells": [
  {
   "cell_type": "markdown",
   "id": "f5b841d6",
   "metadata": {},
   "source": [
    "## Libraries"
   ]
  },
  {
   "cell_type": "code",
   "execution_count": 1,
   "id": "756c8c29",
   "metadata": {},
   "outputs": [
    {
     "name": "stdout",
     "output_type": "stream",
     "text": [
      "Device: cpu\n"
     ]
    }
   ],
   "source": [
    "import torch\n",
    "import numpy as np\n",
    "import argparse\n",
    "import os.path\n",
    "from sklearn.metrics import roc_auc_score, average_precision_score\n",
    "from tqdm import tqdm\n",
    "\n",
    "from utils import prepare_data\n",
    "from model import LinkPred\n",
    "\n",
    "device = torch.device('cuda' if torch.cuda.is_available() else 'cpu')\n",
    "print('Device:', device)"
   ]
  },
  {
   "cell_type": "code",
   "execution_count": 2,
   "id": "73b96370",
   "metadata": {},
   "outputs": [],
   "source": [
    "# Setting \n",
    "\n",
    "def str2bool(v):\n",
    "    if isinstance(v, bool):\n",
    "        return v\n",
    "    if v.lower() in ('yes', 'true', 't', 'y', '1'):\n",
    "        return True\n",
    "    elif v.lower() in ('no', 'false', 'f', 'n', '0'):\n",
    "        return False\n",
    "    else:\n",
    "        raise argparse.ArgumentTypeError('Boolean value expected.')\n",
    "def str2none(v):\n",
    "    if v.lower()=='none':\n",
    "        return None\n",
    "    else:\n",
    "        return str(v)\n",
    "def set_random_seed(seed):\n",
    "    np.random.seed(seed)\n",
    "    torch.manual_seed(seed)\n",
    "    if torch.cuda.is_available():\n",
    "        torch.cuda.manual_seed(seed)\n",
    "        torch.cuda.manual_seed_all(seed)"
   ]
  },
  {
   "cell_type": "code",
   "execution_count": 3,
   "id": "4ba74e3b",
   "metadata": {
    "scrolled": true
   },
   "outputs": [],
   "source": [
    "# Arguments and Parameters\n",
    "\n",
    "parser = argparse.ArgumentParser(description='Link Prediction with Walk-Pooling')\n",
    "\n",
    "#Dataset \n",
    "parser.add_argument('--data-name', default='cora', help='graph name')\n",
    "\n",
    "#training/validation/test divison and ratio\n",
    "parser.add_argument('--use-splitted', type=str2bool, default=True,\n",
    "                    help='use the pre-splitted train/test data,\\\n",
    "                     if False, then make a random division')\n",
    "parser.add_argument('--data-split-num',type=str, default='10',\n",
    "                    help='If use-splitted is true, choose one of splitted data')\n",
    "parser.add_argument('--test-ratio', type=float, default=0.1,\n",
    "                    help='ratio of test links')\n",
    "parser.add_argument('--val-ratio', type=float, default=0.05,\n",
    "                    help='ratio of validation links. If using the splitted data from SEAL,\\\n",
    "                     it is the ratio on the observed links, othewise, it is the ratio on the whole links.')\n",
    "parser.add_argument('--practical-neg-sample', type=bool, default = False,\n",
    "                    help='only see the train positive edges when sampling negative')\n",
    "\n",
    "#setups in peparing the training set \n",
    "parser.add_argument('--observe-val-and-injection', type=str2bool, default = True,\n",
    "                    help='whether to contain the validation set in the observed graph and apply injection trick')\n",
    "parser.add_argument('--num-hops', type=int, default=2,\n",
    "                    help='number of hops in sampling subgraph')\n",
    "parser.add_argument('--max-nodes-per-hop', type=int, default=None)\n",
    "\n",
    "\n",
    "#prepare initial node attributes for those graphs do not have\n",
    "parser.add_argument('--init-attribute', type=str2none, default='ones',\n",
    "                    help='initial attribute for graphs without node attributes\\\n",
    "                    , options: n2v, one_hot, spc, ones, zeros, None')\n",
    "\n",
    "#prepare initial node representation using unsupservised models \n",
    "parser.add_argument('--init-representation', type=str2none, default= None,\n",
    "                    help='options: gic, vgae, argva, None')\n",
    "parser.add_argument('--embedding-dim', type=int, default= 32,\n",
    "                    help='Dimension of the initial node representation, default: 32)')\n",
    "\n",
    "#Drnl feature in the SEAL paper\n",
    "parser.add_argument('--drnl', type=str2bool, default=False,\n",
    "                    help='whether to use drnl labeling')\n",
    "\n",
    "\n",
    "#Model and Training\n",
    "parser.add_argument('--seed', type=int, default=1,\n",
    "                    help='random seed (default: 1)')\n",
    "parser.add_argument('--lr', type=float, default=0.00005,\n",
    "                    help='learning rate')\n",
    "parser.add_argument('--weight-decay', type=float, default=0)\n",
    "parser.add_argument('--walk-len', type=int, default=7, help='cutoff in the length of walks')\n",
    "parser.add_argument('--heads', type=int, default=2,\n",
    "                    help='using multi-heads in the attention link weight encoder ')\n",
    "parser.add_argument('--hidden-channels', type=int, default=32)\n",
    "parser.add_argument('--batch-size', type=int, default=32)\n",
    "parser.add_argument('--epoch-num', type=int, default=5)\n",
    "parser.add_argument('--MSE', type=str2bool, default=False)\n",
    "parser.add_argument('--log', type=str, default=None,\n",
    "                    help='log by tensorboard, default is None')\n",
    "\n",
    "args, unknown = parser.parse_known_args()\n"
   ]
  },
  {
   "cell_type": "code",
   "execution_count": 4,
   "id": "cef66f09",
   "metadata": {},
   "outputs": [],
   "source": [
    "# Setting argument values based on dataset\n",
    "\n",
    "\n",
    "#training/validation/test divison and ratio\n",
    "if  args.data_name in ('cora', 'citeseer','pubmed'):\n",
    "    args.use_splitted = False\n",
    "    args.practical_neg_sample = True\n",
    "    args.observe_val_and_injection = False\n",
    "    args.init_attribute=None\n",
    "\n",
    "\n",
    "#setup in peparing the training set     \n",
    "if (args.data_name in ('Ecoli','PB','pubmed')) and (args.max_nodes_per_hop==None):\n",
    "    args.max_nodes_per_hop=100\n",
    "if args.data_name=='Power':\n",
    "    args.num_hops=3"
   ]
  },
  {
   "cell_type": "markdown",
   "id": "d865b969",
   "metadata": {},
   "source": [
    "## Loading dataset"
   ]
  },
  {
   "cell_type": "code",
   "execution_count": 5,
   "id": "e105489c",
   "metadata": {},
   "outputs": [
    {
     "name": "stdout",
     "output_type": "stream",
     "text": [
      "---------------------------------------------Dataset and Features---------------------------------------------\n",
      "Dataset   |Test Ratio|Val Ratio |Split Num |Dimension |Attribute |hops      |DRNL      |Representation |Observe val and injection\n",
      "----------------------------------------------------------------------------------------------------------------------------------\n",
      "cora      |0.1       |0.05      |10        |32        |None      |2         |False     |None           |False               \n",
      "----------------------------------------------------------------------------------------------------------------------------------\n",
      "<<Begin generating training data>>\n",
      "Using data: cora\n",
      "Train_link: 8976  Val_link: 526  Test_link: 1054\n",
      "<<Complete generating training data>>\n",
      "---------------------------------------------Model and Training---------------------------------------------\n",
      "Learning Rate|Weight Decay |Batch Size   |Epoch   |Walk Length  |Heads   |Hidden Channels\n",
      "---------------------------------------------------------------------------------------------------------\n",
      "5e-05        |0            |32           |5       |7            |2       |32             \n",
      "---------------------------------------------------------------------------------------------------------\n"
     ]
    }
   ],
   "source": [
    "\n",
    "    \n",
    "print (\"-\"*45+'Dataset and Features'+\"-\"*45)\n",
    "print (\"{:<10}|{:<10}|{:<10}|{:<10}|{:<10}|{:<10}|{:<10}|{:<10}|{:<15}|{:<20}\"\\\n",
    "    .format('Dataset','Test Ratio','Val Ratio','Split Num','Dimension',\\\n",
    "        'Attribute','hops','DRNL','Representation','Observe val and injection'))\n",
    "print (\"-\"*130)\n",
    "print (\"{:<10}|{:<10}|{:<10}|{:<10}|{:<10}|{:<10}|{:<10}|{:<10}|{:<15}|{:<20}\"\\\n",
    "    .format(args.data_name,args.test_ratio,args.val_ratio,\\\n",
    "        args.data_split_num,args.embedding_dim,str(args.init_attribute),\\\n",
    "        str(args.num_hops),str(args.drnl),str(args.init_representation),str(args.observe_val_and_injection)))\n",
    "print (\"-\"*130)\n",
    "\n",
    "print('<<Begin generating training data>>')\n",
    "train_loader, val_loader, test_loader, feature_results = prepare_data(args)\n",
    "print('<<Complete generating training data>>')\n",
    "\n",
    "print (\"-\"*45+'Model and Training'+\"-\"*45)\n",
    "print (\"{:<13}|{:<13}|{:<13}|{:<8}|{:<13}|{:<8}|{:<15}\"\\\n",
    "    .format('Learning Rate','Weight Decay','Batch Size','Epoch',\\\n",
    "        'Walk Length','Heads','Hidden Channels'))\n",
    "print (\"-\"*105)\n",
    "\n",
    "print (\"{:<13}|{:<13}|{:<13}|{:<8}|{:<13}|{:<8}|{:<15}\"\\\n",
    "    .format(args.lr,args.weight_decay, str(args.batch_size),\\\n",
    "        args.epoch_num,args.walk_len, args.heads, args.hidden_channels))\n",
    "print (\"-\"*105)"
   ]
  },
  {
   "cell_type": "markdown",
   "id": "60c1f9cd",
   "metadata": {},
   "source": [
    "## Training"
   ]
  },
  {
   "cell_type": "code",
   "execution_count": 7,
   "id": "20422ff2",
   "metadata": {},
   "outputs": [],
   "source": [
    "def train(loader,epoch):\n",
    "    model.train()\n",
    "    loss_epoch=0\n",
    "    for data in tqdm(loader,desc=\"train\"):  # Iterate in batches over the training dataset.\n",
    "        data = data.to(device)\n",
    "        label= data.label\n",
    "        out = model(data.x, data.edge_index, data.edge_mask, data.batch, data.z)\n",
    "        torch.cuda.empty_cache()\n",
    "        loss = criterion(out.view(-1), label)  \n",
    "        optimizer.zero_grad()\n",
    "        loss.backward()  \n",
    "        optimizer.step()\n",
    "        loss_epoch=loss_epoch+loss.item()\n",
    "    return loss_epoch/len(loader)\n",
    "\n",
    "\n",
    "\n",
    "def test(loader,data_type='test'):\n",
    "    model.eval()\n",
    "    scores = torch.tensor([])\n",
    "    labels = torch.tensor([])\n",
    "    loss_total=0\n",
    "    with torch.no_grad():\n",
    "        #for data in tqdm(loader,position=0,leave=True):  # Iterate in batches over the training/test dataset.\n",
    "        for data in tqdm(loader,desc='test:'+data_type):  # Iterate in batches over the training/test dataset.\n",
    "            data = data.to(device)\n",
    "            out = model(data.x, data.edge_index, data.edge_mask, data.batch, data.z)\n",
    "            loss = criterion(out.view(-1), data.label)\n",
    "            out = out.cpu().clone().detach()\n",
    "            scores = torch.cat((scores,out),dim = 0)\n",
    "            labels = torch.cat((labels,data.label.view(-1,1).cpu().clone().detach()),dim = 0)\n",
    "        scores = scores.cpu().clone().detach().numpy()\n",
    "        labels = labels.cpu().clone().detach().numpy()\n",
    "        loss_total=loss_total+loss.item()\n",
    "        return roc_auc_score(labels, scores), average_precision_score(labels, scores),loss_total\n",
    "       \n",
    "\n",
    "\n"
   ]
  },
  {
   "cell_type": "code",
   "execution_count": 6,
   "id": "ced1eeea",
   "metadata": {},
   "outputs": [
    {
     "name": "stdout",
     "output_type": "stream",
     "text": [
      "Dimention of features after concatenation: 1433\n"
     ]
    }
   ],
   "source": [
    "walk_len = args.walk_len\n",
    "heads = args.heads\n",
    "hidden_channels=args.hidden_channels\n",
    "lr=args.lr\n",
    "weight_decay=args.weight_decay\n",
    "\n",
    "torch.cuda.empty_cache()\n",
    "\n",
    "num_features = next(iter(train_loader)).x.size(1)\n",
    "\n",
    "z_max=0\n",
    "if args.drnl==True:\n",
    "    for data in train_loader:\n",
    "        z_max = max(z_max, torch.max(data.z).numpy())\n",
    "    for data in val_loader:\n",
    "        z_max = max(z_max, torch.max(data.z).numpy())\n",
    "    for data in test_loader:\n",
    "        z_max = max(z_max, torch.max(data.z).numpy())\n",
    "    z_max = z_max+1\n",
    "    \n",
    "    #if use drnl, we use a Embedding with dimension = hidden_channels\n",
    "    num_features = hidden_channels + num_features\n",
    "\n",
    "torch.cuda.empty_cache()\n",
    "print(\"Dimention of features after concatenation:\",num_features)\n",
    "set_random_seed(args.seed)"
   ]
  },
  {
   "cell_type": "markdown",
   "id": "4e1d5420",
   "metadata": {},
   "source": [
    "## Model"
   ]
  },
  {
   "cell_type": "code",
   "execution_count": 6,
   "id": "75c89c77",
   "metadata": {},
   "outputs": [],
   "source": [
    "model = LinkPred(in_channels = num_features, hidden_channels = hidden_channels,\\\n",
    "    heads = heads, walk_len = walk_len, drnl = args.drnl,z_max = z_max, MSE= args.MSE).to(device)\n",
    "\n",
    "optimizer = torch.optim.Adam(model.parameters(), lr=lr,weight_decay=weight_decay)\n",
    "criterion = torch.nn.MSELoss(reduction='mean')\n",
    "\n",
    "\n",
    "if args.MSE:\n",
    "    criterion = torch.nn.MSELoss(reduction='mean')\n",
    "else:\n",
    "    criterion = torch.nn.BCEWithLogitsLoss()\n",
    "\n"
   ]
  },
  {
   "cell_type": "code",
   "execution_count": 9,
   "id": "6366629c",
   "metadata": {},
   "outputs": [
    {
     "name": "stderr",
     "output_type": "stream",
     "text": [
      "train: 100%|█████████████████████████████████████████████████████████████████████████| 281/281 [06:35<00:00,  1.41s/it]\n",
      "test:val: 100%|████████████████████████████████████████████████████████████████████████| 17/17 [00:07<00:00,  2.15it/s]\n",
      "test:test: 100%|███████████████████████████████████████████████████████████████████████| 33/33 [00:14<00:00,  2.27it/s]\n"
     ]
    },
    {
     "name": "stdout",
     "output_type": "stream",
     "text": [
      "Epoch: 000, Loss : 0.4350,     Val Loss : 0.5004, Val AUC: 0.9117,      Test AUC: 0.9220, Picked AUC:0.9220\n"
     ]
    },
    {
     "name": "stderr",
     "output_type": "stream",
     "text": [
      "train: 100%|█████████████████████████████████████████████████████████████████████████| 281/281 [06:41<00:00,  1.43s/it]\n",
      "test:val: 100%|████████████████████████████████████████████████████████████████████████| 17/17 [00:07<00:00,  2.19it/s]\n",
      "test:test: 100%|███████████████████████████████████████████████████████████████████████| 33/33 [00:14<00:00,  2.27it/s]\n"
     ]
    },
    {
     "name": "stdout",
     "output_type": "stream",
     "text": [
      "Epoch: 001, Loss : 0.3789,     Val Loss : 0.6731, Val AUC: 0.9151,      Test AUC: 0.9262, Picked AUC:0.9262\n"
     ]
    },
    {
     "name": "stderr",
     "output_type": "stream",
     "text": [
      "train: 100%|█████████████████████████████████████████████████████████████████████████| 281/281 [06:43<00:00,  1.44s/it]\n",
      "test:val: 100%|████████████████████████████████████████████████████████████████████████| 17/17 [00:08<00:00,  2.03it/s]\n",
      "test:test: 100%|███████████████████████████████████████████████████████████████████████| 33/33 [00:15<00:00,  2.18it/s]\n"
     ]
    },
    {
     "name": "stdout",
     "output_type": "stream",
     "text": [
      "Epoch: 002, Loss : 0.3551,     Val Loss : 0.3204, Val AUC: 0.9185,      Test AUC: 0.9317, Picked AUC:0.9317\n"
     ]
    },
    {
     "name": "stderr",
     "output_type": "stream",
     "text": [
      "train: 100%|█████████████████████████████████████████████████████████████████████████| 281/281 [06:44<00:00,  1.44s/it]\n",
      "test:val: 100%|████████████████████████████████████████████████████████████████████████| 17/17 [00:07<00:00,  2.17it/s]\n",
      "test:test: 100%|███████████████████████████████████████████████████████████████████████| 33/33 [00:14<00:00,  2.20it/s]\n"
     ]
    },
    {
     "name": "stdout",
     "output_type": "stream",
     "text": [
      "Epoch: 003, Loss : 0.3411,     Val Loss : 0.2588, Val AUC: 0.9233,      Test AUC: 0.9270, Picked AUC:0.9270\n"
     ]
    },
    {
     "name": "stderr",
     "output_type": "stream",
     "text": [
      "train: 100%|█████████████████████████████████████████████████████████████████████████| 281/281 [06:42<00:00,  1.43s/it]\n",
      "test:val: 100%|████████████████████████████████████████████████████████████████████████| 17/17 [00:16<00:00,  1.01it/s]\n",
      "test:test: 100%|███████████████████████████████████████████████████████████████████████| 33/33 [00:28<00:00,  1.14it/s]"
     ]
    },
    {
     "name": "stdout",
     "output_type": "stream",
     "text": [
      "Epoch: 004, Loss : 0.3331,     Val Loss : 0.4443, Val AUC: 0.9175,      Test AUC: 0.9257, Picked AUC:0.9270\n"
     ]
    },
    {
     "name": "stderr",
     "output_type": "stream",
     "text": [
      "\n"
     ]
    }
   ],
   "source": [
    "Best_Val_fromloss=1e10\n",
    "Final_Test_AUC_fromloss=0\n",
    "Final_Test_AP_fromloss=0\n",
    "\n",
    "Best_Val_fromAUC=0\n",
    "Final_Test_AUC_fromAUC=0\n",
    "Final_Test_AP_fromAUC=0\n",
    "\n",
    "for epoch in range(0, args.epoch_num):\n",
    "    loss_epoch = train(train_loader,epoch)\n",
    "    val_auc, val_ap, val_loss = test(val_loader,data_type='val')\n",
    "    test_auc,test_ap,_ = test(test_loader,data_type='test')\n",
    "    if val_loss < Best_Val_fromloss:\n",
    "        Best_Val_fromloss = val_loss\n",
    "        Final_Test_AUC_fromloss = test_auc\n",
    "        Final_Test_AP_fromloss = test_ap\n",
    "\n",
    "    if val_auc > Best_Val_fromAUC:\n",
    "        Best_Val_fromAUC = val_auc\n",
    "        Final_Test_AUC_fromAUC = test_auc\n",
    "        Final_Test_AP_fromAUC = test_ap\n",
    "    print(f'Epoch: {epoch:03d}, Loss : {loss_epoch:.4f},\\\n",
    "     Val Loss : {val_loss:.4f}, Val AUC: {val_auc:.4f},\\\n",
    "      Test AUC: {test_auc:.4f}, Picked AUC:{Final_Test_AUC_fromAUC:.4f}')\n"
   ]
  },
  {
   "cell_type": "code",
   "execution_count": 11,
   "id": "8b11c5e2",
   "metadata": {},
   "outputs": [
    {
     "name": "stderr",
     "output_type": "stream",
     "text": [
      "test:test: 100%|███████████████████████████████████████████████████████████████████████| 33/33 [00:26<00:00,  1.22it/s]\n"
     ]
    }
   ],
   "source": [
    "test_auc,test_ap,_ = test(test_loader,data_type='test')"
   ]
  },
  {
   "cell_type": "code",
   "execution_count": 12,
   "id": "eca53a68",
   "metadata": {},
   "outputs": [
    {
     "name": "stdout",
     "output_type": "stream",
     "text": [
      "0.9221399277713166\n"
     ]
    }
   ],
   "source": [
    "print(test_auc)"
   ]
  },
  {
   "cell_type": "code",
   "execution_count": 13,
   "id": "ff1579b9",
   "metadata": {},
   "outputs": [
    {
     "name": "stdout",
     "output_type": "stream",
     "text": [
      "From loss: Final Test AUC: 0.0000, Final Test AP: 0.0000\n",
      "From AUC: Final Test AUC: 0.0000, Final Test AP: 0.0000\n"
     ]
    }
   ],
   "source": [
    "print(f'From loss: Final Test AUC: {Final_Test_AUC_fromloss:.4f}, Final Test AP: {Final_Test_AP_fromloss:.4f}')\n",
    "print(f'From AUC: Final Test AUC: {Final_Test_AUC_fromAUC:.4f}, Final Test AP: {Final_Test_AP_fromAUC:.4f}')"
   ]
  },
  {
   "cell_type": "code",
   "execution_count": null,
   "id": "72b5150a",
   "metadata": {},
   "outputs": [],
   "source": []
  },
  {
   "cell_type": "code",
   "execution_count": null,
   "id": "4a397906",
   "metadata": {},
   "outputs": [],
   "source": []
  },
  {
   "cell_type": "code",
   "execution_count": null,
   "id": "533579a1",
   "metadata": {},
   "outputs": [],
   "source": []
  },
  {
   "cell_type": "markdown",
   "id": "d72993c9",
   "metadata": {},
   "source": [
    "##  Measurement"
   ]
  },
  {
   "cell_type": "code",
   "execution_count": 8,
   "id": "3bb8f086",
   "metadata": {},
   "outputs": [],
   "source": [
    "import statistics as stat\n",
    "import time\n",
    "\n",
    "\n",
    "Eva_final=dict()\n",
    "Base_model_Auc=[]\n",
    "T_base_model=[]"
   ]
  },
  {
   "cell_type": "code",
   "execution_count": 9,
   "id": "aade377b",
   "metadata": {},
   "outputs": [
    {
     "name": "stderr",
     "output_type": "stream",
     "text": [
      "train: 100%|█████████████████████████████████████████████████████████████████████████| 281/281 [06:37<00:00,  1.41s/it]\n",
      "test:val: 100%|████████████████████████████████████████████████████████████████████████| 17/17 [00:15<00:00,  1.09it/s]\n",
      "test:test: 100%|███████████████████████████████████████████████████████████████████████| 33/33 [00:29<00:00,  1.12it/s]\n"
     ]
    },
    {
     "name": "stdout",
     "output_type": "stream",
     "text": [
      "Epoch: 000, Loss : 0.4350,         Val Loss : 0.5004, Val AUC: 0.9117,          Test AUC: 0.9220, Picked AUC:0.9220\n"
     ]
    },
    {
     "name": "stderr",
     "output_type": "stream",
     "text": [
      "train: 100%|█████████████████████████████████████████████████████████████████████████| 281/281 [06:34<00:00,  1.40s/it]\n",
      "test:val: 100%|████████████████████████████████████████████████████████████████████████| 17/17 [00:16<00:00,  1.06it/s]\n",
      "test:test: 100%|███████████████████████████████████████████████████████████████████████| 33/33 [00:23<00:00,  1.39it/s]\n"
     ]
    },
    {
     "name": "stdout",
     "output_type": "stream",
     "text": [
      "Epoch: 001, Loss : 0.3789,         Val Loss : 0.6731, Val AUC: 0.9151,          Test AUC: 0.9262, Picked AUC:0.9262\n"
     ]
    },
    {
     "name": "stderr",
     "output_type": "stream",
     "text": [
      "train: 100%|█████████████████████████████████████████████████████████████████████████| 281/281 [06:32<00:00,  1.40s/it]\n",
      "test:val: 100%|████████████████████████████████████████████████████████████████████████| 17/17 [00:19<00:00,  1.16s/it]\n",
      "test:test: 100%|███████████████████████████████████████████████████████████████████████| 33/33 [00:38<00:00,  1.17s/it]\n"
     ]
    },
    {
     "name": "stdout",
     "output_type": "stream",
     "text": [
      "Epoch: 002, Loss : 0.3551,         Val Loss : 0.3204, Val AUC: 0.9185,          Test AUC: 0.9317, Picked AUC:0.9317\n"
     ]
    },
    {
     "name": "stderr",
     "output_type": "stream",
     "text": [
      "train: 100%|█████████████████████████████████████████████████████████████████████████| 281/281 [07:01<00:00,  1.50s/it]\n",
      "test:val: 100%|████████████████████████████████████████████████████████████████████████| 17/17 [00:19<00:00,  1.14s/it]\n",
      "test:test: 100%|███████████████████████████████████████████████████████████████████████| 33/33 [00:31<00:00,  1.05it/s]\n"
     ]
    },
    {
     "name": "stdout",
     "output_type": "stream",
     "text": [
      "Epoch: 003, Loss : 0.3411,         Val Loss : 0.2588, Val AUC: 0.9233,          Test AUC: 0.9270, Picked AUC:0.9270\n"
     ]
    },
    {
     "name": "stderr",
     "output_type": "stream",
     "text": [
      "train: 100%|█████████████████████████████████████████████████████████████████████████| 281/281 [07:09<00:00,  1.53s/it]\n",
      "test:val: 100%|████████████████████████████████████████████████████████████████████████| 17/17 [00:21<00:00,  1.29s/it]\n",
      "test:test: 100%|███████████████████████████████████████████████████████████████████████| 33/33 [00:46<00:00,  1.42s/it]\n"
     ]
    },
    {
     "name": "stdout",
     "output_type": "stream",
     "text": [
      "Epoch: 004, Loss : 0.3331,         Val Loss : 0.4443, Val AUC: 0.9175,          Test AUC: 0.9257, Picked AUC:0.9270\n",
      "From loss: Final Test AUC: 0.9270, Final Test AP: 0.9365\n",
      "From AUC: Final Test AUC: 0.9270, Final Test AP: 0.9365\n"
     ]
    },
    {
     "name": "stderr",
     "output_type": "stream",
     "text": [
      "test:test: 100%|███████████████████████████████████████████████████████████████████████| 33/33 [00:13<00:00,  2.36it/s]\n"
     ]
    },
    {
     "name": "stdout",
     "output_type": "stream",
     "text": [
      "Time inference: 14.00715160369873,Test Auc: 0.926,\n"
     ]
    },
    {
     "name": "stderr",
     "output_type": "stream",
     "text": [
      "train: 100%|█████████████████████████████████████████████████████████████████████████| 281/281 [07:32<00:00,  1.61s/it]\n",
      "test:val: 100%|████████████████████████████████████████████████████████████████████████| 17/17 [00:17<00:00,  1.05s/it]\n",
      "test:test: 100%|███████████████████████████████████████████████████████████████████████| 33/33 [00:54<00:00,  1.64s/it]\n"
     ]
    },
    {
     "name": "stdout",
     "output_type": "stream",
     "text": [
      "Epoch: 000, Loss : 0.3203,         Val Loss : 0.5423, Val AUC: 0.9203,          Test AUC: 0.9200, Picked AUC:0.9200\n"
     ]
    },
    {
     "name": "stderr",
     "output_type": "stream",
     "text": [
      "train: 100%|█████████████████████████████████████████████████████████████████████████| 281/281 [07:44<00:00,  1.65s/it]\n",
      "test:val: 100%|████████████████████████████████████████████████████████████████████████| 17/17 [00:21<00:00,  1.25s/it]\n",
      "test:test: 100%|███████████████████████████████████████████████████████████████████████| 33/33 [00:37<00:00,  1.12s/it]\n"
     ]
    },
    {
     "name": "stdout",
     "output_type": "stream",
     "text": [
      "Epoch: 001, Loss : 0.3108,         Val Loss : 0.2907, Val AUC: 0.9186,          Test AUC: 0.9223, Picked AUC:0.9200\n"
     ]
    },
    {
     "name": "stderr",
     "output_type": "stream",
     "text": [
      "train: 100%|█████████████████████████████████████████████████████████████████████████| 281/281 [07:32<00:00,  1.61s/it]\n",
      "test:val: 100%|████████████████████████████████████████████████████████████████████████| 17/17 [00:17<00:00,  1.06s/it]\n",
      "test:test: 100%|███████████████████████████████████████████████████████████████████████| 33/33 [00:35<00:00,  1.09s/it]\n"
     ]
    },
    {
     "name": "stdout",
     "output_type": "stream",
     "text": [
      "Epoch: 002, Loss : 0.3108,         Val Loss : 0.8413, Val AUC: 0.9218,          Test AUC: 0.9244, Picked AUC:0.9244\n"
     ]
    },
    {
     "name": "stderr",
     "output_type": "stream",
     "text": [
      "train: 100%|█████████████████████████████████████████████████████████████████████████| 281/281 [07:48<00:00,  1.67s/it]\n",
      "test:val: 100%|████████████████████████████████████████████████████████████████████████| 17/17 [00:18<00:00,  1.06s/it]\n",
      "test:test: 100%|███████████████████████████████████████████████████████████████████████| 33/33 [00:37<00:00,  1.14s/it]\n"
     ]
    },
    {
     "name": "stdout",
     "output_type": "stream",
     "text": [
      "Epoch: 003, Loss : 0.2856,         Val Loss : 0.6166, Val AUC: 0.9152,          Test AUC: 0.9211, Picked AUC:0.9244\n"
     ]
    },
    {
     "name": "stderr",
     "output_type": "stream",
     "text": [
      "train: 100%|█████████████████████████████████████████████████████████████████████████| 281/281 [08:25<00:00,  1.80s/it]\n",
      "test:val: 100%|████████████████████████████████████████████████████████████████████████| 17/17 [00:16<00:00,  1.04it/s]\n",
      "test:test: 100%|███████████████████████████████████████████████████████████████████████| 33/33 [00:32<00:00,  1.00it/s]\n"
     ]
    },
    {
     "name": "stdout",
     "output_type": "stream",
     "text": [
      "Epoch: 004, Loss : 0.2768,         Val Loss : 0.4244, Val AUC: 0.9230,          Test AUC: 0.9181, Picked AUC:0.9181\n",
      "From loss: Final Test AUC: 0.9223, Final Test AP: 0.9333\n",
      "From AUC: Final Test AUC: 0.9181, Final Test AP: 0.9305\n"
     ]
    },
    {
     "name": "stderr",
     "output_type": "stream",
     "text": [
      "test:test: 100%|███████████████████████████████████████████████████████████████████████| 33/33 [00:13<00:00,  2.40it/s]\n"
     ]
    },
    {
     "name": "stdout",
     "output_type": "stream",
     "text": [
      "Time inference: 13.769235372543335,Test Auc: 0.918,\n"
     ]
    },
    {
     "name": "stderr",
     "output_type": "stream",
     "text": [
      "train: 100%|█████████████████████████████████████████████████████████████████████████| 281/281 [08:12<00:00,  1.75s/it]\n",
      "test:val: 100%|████████████████████████████████████████████████████████████████████████| 17/17 [00:15<00:00,  1.07it/s]\n",
      "test:test: 100%|███████████████████████████████████████████████████████████████████████| 33/33 [00:30<00:00,  1.08it/s]\n"
     ]
    },
    {
     "name": "stdout",
     "output_type": "stream",
     "text": [
      "Epoch: 000, Loss : 0.2673,         Val Loss : 0.7292, Val AUC: 0.9140,          Test AUC: 0.9161, Picked AUC:0.9161\n"
     ]
    },
    {
     "name": "stderr",
     "output_type": "stream",
     "text": [
      "train: 100%|█████████████████████████████████████████████████████████████████████████| 281/281 [10:08<00:00,  2.17s/it]\n",
      "test:val: 100%|████████████████████████████████████████████████████████████████████████| 17/17 [00:26<00:00,  1.58s/it]\n",
      "test:test: 100%|███████████████████████████████████████████████████████████████████████| 33/33 [00:49<00:00,  1.50s/it]\n"
     ]
    },
    {
     "name": "stdout",
     "output_type": "stream",
     "text": [
      "Epoch: 001, Loss : 0.2555,         Val Loss : 0.3017, Val AUC: 0.9199,          Test AUC: 0.9174, Picked AUC:0.9174\n"
     ]
    },
    {
     "name": "stderr",
     "output_type": "stream",
     "text": [
      "train: 100%|█████████████████████████████████████████████████████████████████████████| 281/281 [08:36<00:00,  1.84s/it]\n",
      "test:val: 100%|████████████████████████████████████████████████████████████████████████| 17/17 [00:27<00:00,  1.62s/it]\n",
      "test:test: 100%|███████████████████████████████████████████████████████████████████████| 33/33 [00:55<00:00,  1.68s/it]\n"
     ]
    },
    {
     "name": "stdout",
     "output_type": "stream",
     "text": [
      "Epoch: 002, Loss : 0.2419,         Val Loss : 0.3899, Val AUC: 0.9235,          Test AUC: 0.9217, Picked AUC:0.9217\n"
     ]
    },
    {
     "name": "stderr",
     "output_type": "stream",
     "text": [
      "train: 100%|█████████████████████████████████████████████████████████████████████████| 281/281 [09:49<00:00,  2.10s/it]\n",
      "test:val: 100%|████████████████████████████████████████████████████████████████████████| 17/17 [00:22<00:00,  1.30s/it]\n",
      "test:test: 100%|███████████████████████████████████████████████████████████████████████| 33/33 [00:47<00:00,  1.43s/it]\n"
     ]
    },
    {
     "name": "stdout",
     "output_type": "stream",
     "text": [
      "Epoch: 003, Loss : 0.2364,         Val Loss : 0.0417, Val AUC: 0.9224,          Test AUC: 0.9221, Picked AUC:0.9217\n"
     ]
    },
    {
     "name": "stderr",
     "output_type": "stream",
     "text": [
      "train: 100%|█████████████████████████████████████████████████████████████████████████| 281/281 [09:42<00:00,  2.07s/it]\n",
      "test:val: 100%|████████████████████████████████████████████████████████████████████████| 17/17 [00:36<00:00,  2.14s/it]\n",
      "test:test: 100%|███████████████████████████████████████████████████████████████████████| 33/33 [01:01<00:00,  1.87s/it]\n"
     ]
    },
    {
     "name": "stdout",
     "output_type": "stream",
     "text": [
      "Epoch: 004, Loss : 0.2238,         Val Loss : 0.5619, Val AUC: 0.9149,          Test AUC: 0.9179, Picked AUC:0.9217\n",
      "From loss: Final Test AUC: 0.9221, Final Test AP: 0.9342\n",
      "From AUC: Final Test AUC: 0.9217, Final Test AP: 0.9336\n"
     ]
    },
    {
     "name": "stderr",
     "output_type": "stream",
     "text": [
      "test:test: 100%|███████████████████████████████████████████████████████████████████████| 33/33 [00:14<00:00,  2.35it/s]\n"
     ]
    },
    {
     "name": "stdout",
     "output_type": "stream",
     "text": [
      "Time inference: 14.05490231513977,Test Auc: 0.918,\n"
     ]
    },
    {
     "name": "stderr",
     "output_type": "stream",
     "text": [
      "train: 100%|█████████████████████████████████████████████████████████████████████████| 281/281 [09:34<00:00,  2.04s/it]\n",
      "test:val: 100%|████████████████████████████████████████████████████████████████████████| 17/17 [00:16<00:00,  1.03it/s]\n",
      "test:test: 100%|███████████████████████████████████████████████████████████████████████| 33/33 [00:46<00:00,  1.41s/it]\n"
     ]
    },
    {
     "name": "stdout",
     "output_type": "stream",
     "text": [
      "Epoch: 000, Loss : 0.2172,         Val Loss : 0.5243, Val AUC: 0.9175,          Test AUC: 0.9154, Picked AUC:0.9154\n"
     ]
    },
    {
     "name": "stderr",
     "output_type": "stream",
     "text": [
      "train: 100%|█████████████████████████████████████████████████████████████████████████| 281/281 [09:28<00:00,  2.02s/it]\n",
      "test:val: 100%|████████████████████████████████████████████████████████████████████████| 17/17 [00:28<00:00,  1.66s/it]\n",
      "test:test: 100%|███████████████████████████████████████████████████████████████████████| 33/33 [00:41<00:00,  1.25s/it]\n"
     ]
    },
    {
     "name": "stdout",
     "output_type": "stream",
     "text": [
      "Epoch: 001, Loss : 0.2060,         Val Loss : 0.2360, Val AUC: 0.9185,          Test AUC: 0.9184, Picked AUC:0.9184\n"
     ]
    },
    {
     "name": "stderr",
     "output_type": "stream",
     "text": [
      "train: 100%|█████████████████████████████████████████████████████████████████████████| 281/281 [10:05<00:00,  2.16s/it]\n",
      "test:val: 100%|████████████████████████████████████████████████████████████████████████| 17/17 [00:21<00:00,  1.27s/it]\n",
      "test:test: 100%|███████████████████████████████████████████████████████████████████████| 33/33 [00:44<00:00,  1.36s/it]\n"
     ]
    },
    {
     "name": "stdout",
     "output_type": "stream",
     "text": [
      "Epoch: 002, Loss : 0.1942,         Val Loss : 0.0885, Val AUC: 0.9194,          Test AUC: 0.9157, Picked AUC:0.9157\n"
     ]
    },
    {
     "name": "stderr",
     "output_type": "stream",
     "text": [
      "train: 100%|█████████████████████████████████████████████████████████████████████████| 281/281 [09:42<00:00,  2.07s/it]\n",
      "test:val: 100%|████████████████████████████████████████████████████████████████████████| 17/17 [00:24<00:00,  1.46s/it]\n",
      "test:test: 100%|███████████████████████████████████████████████████████████████████████| 33/33 [01:03<00:00,  1.93s/it]\n"
     ]
    },
    {
     "name": "stdout",
     "output_type": "stream",
     "text": [
      "Epoch: 003, Loss : 0.1972,         Val Loss : 0.4426, Val AUC: 0.9157,          Test AUC: 0.9159, Picked AUC:0.9157\n"
     ]
    },
    {
     "name": "stderr",
     "output_type": "stream",
     "text": [
      "train: 100%|█████████████████████████████████████████████████████████████████████████| 281/281 [10:18<00:00,  2.20s/it]\n",
      "test:val: 100%|████████████████████████████████████████████████████████████████████████| 17/17 [00:25<00:00,  1.47s/it]\n",
      "test:test: 100%|███████████████████████████████████████████████████████████████████████| 33/33 [01:08<00:00,  2.08s/it]\n"
     ]
    },
    {
     "name": "stdout",
     "output_type": "stream",
     "text": [
      "Epoch: 004, Loss : 0.1878,         Val Loss : 0.8276, Val AUC: 0.9189,          Test AUC: 0.9170, Picked AUC:0.9157\n",
      "From loss: Final Test AUC: 0.9157, Final Test AP: 0.9303\n",
      "From AUC: Final Test AUC: 0.9157, Final Test AP: 0.9303\n"
     ]
    },
    {
     "name": "stderr",
     "output_type": "stream",
     "text": [
      "test:test: 100%|███████████████████████████████████████████████████████████████████████| 33/33 [00:13<00:00,  2.43it/s]\n"
     ]
    },
    {
     "name": "stdout",
     "output_type": "stream",
     "text": [
      "Time inference: 13.637200593948364,Test Auc: 0.917,\n"
     ]
    },
    {
     "name": "stderr",
     "output_type": "stream",
     "text": [
      "train: 100%|█████████████████████████████████████████████████████████████████████████| 281/281 [10:34<00:00,  2.26s/it]\n",
      "test:val: 100%|████████████████████████████████████████████████████████████████████████| 17/17 [00:30<00:00,  1.80s/it]\n",
      "test:test: 100%|███████████████████████████████████████████████████████████████████████| 33/33 [00:58<00:00,  1.78s/it]\n"
     ]
    },
    {
     "name": "stdout",
     "output_type": "stream",
     "text": [
      "Epoch: 000, Loss : 0.1846,         Val Loss : 0.0548, Val AUC: 0.9198,          Test AUC: 0.9213, Picked AUC:0.9213\n"
     ]
    },
    {
     "name": "stderr",
     "output_type": "stream",
     "text": [
      "train: 100%|█████████████████████████████████████████████████████████████████████████| 281/281 [09:22<00:00,  2.00s/it]\n",
      "test:val: 100%|████████████████████████████████████████████████████████████████████████| 17/17 [00:31<00:00,  1.88s/it]\n",
      "test:test: 100%|███████████████████████████████████████████████████████████████████████| 33/33 [01:08<00:00,  2.08s/it]\n"
     ]
    },
    {
     "name": "stdout",
     "output_type": "stream",
     "text": [
      "Epoch: 001, Loss : 0.1724,         Val Loss : 0.1874, Val AUC: 0.9211,          Test AUC: 0.9187, Picked AUC:0.9187\n"
     ]
    },
    {
     "name": "stderr",
     "output_type": "stream",
     "text": [
      "train: 100%|█████████████████████████████████████████████████████████████████████████| 281/281 [09:33<00:00,  2.04s/it]\n",
      "test:val: 100%|████████████████████████████████████████████████████████████████████████| 17/17 [00:19<00:00,  1.16s/it]\n",
      "test:test: 100%|███████████████████████████████████████████████████████████████████████| 33/33 [00:50<00:00,  1.53s/it]\n"
     ]
    },
    {
     "name": "stdout",
     "output_type": "stream",
     "text": [
      "Epoch: 002, Loss : 0.1701,         Val Loss : 0.9285, Val AUC: 0.9199,          Test AUC: 0.9206, Picked AUC:0.9187\n"
     ]
    },
    {
     "name": "stderr",
     "output_type": "stream",
     "text": [
      "train: 100%|█████████████████████████████████████████████████████████████████████████| 281/281 [08:55<00:00,  1.91s/it]\n",
      "test:val: 100%|████████████████████████████████████████████████████████████████████████| 17/17 [00:18<00:00,  1.06s/it]\n",
      "test:test: 100%|███████████████████████████████████████████████████████████████████████| 33/33 [00:44<00:00,  1.34s/it]\n"
     ]
    },
    {
     "name": "stdout",
     "output_type": "stream",
     "text": [
      "Epoch: 003, Loss : 0.1659,         Val Loss : 0.2000, Val AUC: 0.9162,          Test AUC: 0.9152, Picked AUC:0.9187\n"
     ]
    },
    {
     "name": "stderr",
     "output_type": "stream",
     "text": [
      "train: 100%|█████████████████████████████████████████████████████████████████████████| 281/281 [09:05<00:00,  1.94s/it]\n",
      "test:val: 100%|████████████████████████████████████████████████████████████████████████| 17/17 [00:26<00:00,  1.57s/it]\n",
      "test:test: 100%|███████████████████████████████████████████████████████████████████████| 33/33 [00:41<00:00,  1.25s/it]\n"
     ]
    },
    {
     "name": "stdout",
     "output_type": "stream",
     "text": [
      "Epoch: 004, Loss : 0.1622,         Val Loss : 0.3194, Val AUC: 0.9206,          Test AUC: 0.9175, Picked AUC:0.9187\n",
      "From loss: Final Test AUC: 0.9213, Final Test AP: 0.9344\n",
      "From AUC: Final Test AUC: 0.9187, Final Test AP: 0.9326\n"
     ]
    },
    {
     "name": "stderr",
     "output_type": "stream",
     "text": [
      "test:test: 100%|███████████████████████████████████████████████████████████████████████| 33/33 [00:13<00:00,  2.37it/s]"
     ]
    },
    {
     "name": "stdout",
     "output_type": "stream",
     "text": [
      "Time inference: 13.95359206199646,Test Auc: 0.918,\n"
     ]
    },
    {
     "name": "stderr",
     "output_type": "stream",
     "text": [
      "\n"
     ]
    }
   ],
   "source": [
    "for i in range(5):\n",
    "    Best_Val_fromloss=1e10\n",
    "    Final_Test_AUC_fromloss=0\n",
    "    Final_Test_AP_fromloss=0\n",
    "\n",
    "    Best_Val_fromAUC=0\n",
    "    Final_Test_AUC_fromAUC=0\n",
    "    Final_Test_AP_fromAUC=0\n",
    "\n",
    "    for epoch in range(0, args.epoch_num):\n",
    "        loss_epoch = train(train_loader,epoch)\n",
    "        val_auc, val_ap, val_loss = test(val_loader,data_type='val')\n",
    "        test_auc,test_ap,_ = test(test_loader,data_type='test')\n",
    "        if val_loss < Best_Val_fromloss:\n",
    "            Best_Val_fromloss = val_loss\n",
    "            Final_Test_AUC_fromloss = test_auc\n",
    "            Final_Test_AP_fromloss = test_ap\n",
    "\n",
    "        if val_auc > Best_Val_fromAUC:\n",
    "            Best_Val_fromAUC = val_auc\n",
    "            Final_Test_AUC_fromAUC = test_auc\n",
    "            Final_Test_AP_fromAUC = test_ap\n",
    "        print(f'Epoch: {epoch:03d}, Loss : {loss_epoch:.4f},\\\n",
    "         Val Loss : {val_loss:.4f}, Val AUC: {val_auc:.4f},\\\n",
    "          Test AUC: {test_auc:.4f}, Picked AUC:{Final_Test_AUC_fromAUC:.4f}')\n",
    "        \n",
    "        \n",
    "        \n",
    "    print(f'From loss: Final Test AUC: {Final_Test_AUC_fromloss:.4f}, Final Test AP: {Final_Test_AP_fromloss:.4f}')\n",
    "    print(f'From AUC: Final Test AUC: {Final_Test_AUC_fromAUC:.4f}, Final Test AP: {Final_Test_AP_fromAUC:.4f}')\n",
    "        \n",
    "        \n",
    "    start = time.time()\n",
    "    test_auc,test_ap,_ = test(test_loader,data_type='test')\n",
    "    end = time.time()\n",
    "    t_inference= end-start\n",
    "        \n",
    "    Base_model_Auc.append(test_auc)\n",
    "    T_base_model.append(t_inference)\n",
    "    print(f\"Time inference: {t_inference},Test Auc: {test_auc:.3f},\")\n",
    "\n",
    "    "
   ]
  },
  {
   "cell_type": "code",
   "execution_count": 10,
   "id": "b58ed2b7",
   "metadata": {},
   "outputs": [
    {
     "data": {
      "text/plain": [
       "[0.9257117549841752,\n",
       " 0.9180604114082433,\n",
       " 0.9178623766333369,\n",
       " 0.9170018255205614,\n",
       " 0.9175023134062341]"
      ]
     },
     "execution_count": 10,
     "metadata": {},
     "output_type": "execute_result"
    }
   ],
   "source": [
    "Base_model_Auc"
   ]
  },
  {
   "cell_type": "code",
   "execution_count": 11,
   "id": "738f9892",
   "metadata": {},
   "outputs": [
    {
     "data": {
      "text/plain": [
       "[14.00715160369873,\n",
       " 13.769235372543335,\n",
       " 14.05490231513977,\n",
       " 13.637200593948364,\n",
       " 13.95359206199646]"
      ]
     },
     "execution_count": 11,
     "metadata": {},
     "output_type": "execute_result"
    }
   ],
   "source": [
    "T_base_model"
   ]
  },
  {
   "cell_type": "code",
   "execution_count": 13,
   "id": "73bab131",
   "metadata": {},
   "outputs": [
    {
     "name": "stdout",
     "output_type": "stream",
     "text": [
      "Base_model_Auc in ten time:\n",
      "0.9257117549841752|0.9180604114082433|0.9178623766333369|0.9170018255205614|0.9175023134062341\n",
      "--------------------------------------------------------------------------------------------------------------\n",
      "Time Inference model in ten time:\n",
      "14.00715160369873|13.769235372543335|14.05490231513977|13.637200593948364|13.95359206199646\n"
     ]
    }
   ],
   "source": [
    "print(f'Base_model_Auc in ten time:')\n",
    "print (\"{:<10}|{:<10}|{:<10}|{:<10}|{:<10}\"\\\n",
    "    .format(Base_model_Auc[0],Base_model_Auc[1],Base_model_Auc[2],\\\n",
    "        Base_model_Auc[3],Base_model_Auc[4]))\n",
    "print (\"-\"*110)\n",
    "print(f'Time Inference model in ten time:')\n",
    "#print(T_base_model)\n",
    "print (\"{:<10}|{:<10}|{:<10}|{:<10}|{:<10}\"\\\n",
    "    .format(T_base_model[0],T_base_model[1],T_base_model[2],\\\n",
    "        T_base_model[3],T_base_model[4]))"
   ]
  },
  {
   "cell_type": "code",
   "execution_count": 14,
   "id": "8aad7880",
   "metadata": {},
   "outputs": [
    {
     "name": "stdout",
     "output_type": "stream",
     "text": [
      "Auc: 0.919 ± 0.004\n",
      "Time inference :13.884 ± 0.176\n"
     ]
    }
   ],
   "source": [
    "import statistics as stat\n",
    "\n",
    "base_model_accuracy_mean = stat.mean(Base_model_Auc)\n",
    "base_model_accuracy_std =  stat.stdev(Base_model_Auc)\n",
    "desc_auc = \"{:.3f} ± {:.3f}\".format(base_model_accuracy_mean,base_model_accuracy_std)\n",
    "print(f\"Auc: {desc_auc}\"  )\n",
    "\n",
    "Eva_final.update({'base model accuracy':float(format(base_model_accuracy_mean, '.4f'))})\n",
    "                 \n",
    "t_base_model_mean =stat.mean(T_base_model)\n",
    "t_base_model_std =stat.stdev(T_base_model)   \n",
    "desc_T = \"{:.3f} ± {:.3f}\".format(t_base_model_mean,t_base_model_std)\n",
    "\n",
    "print(f\"Time inference :{desc_T}\")\n",
    "Eva_final.update({'time inference of base model':float(format(t_base_model_mean, '.6f'))})"
   ]
  },
  {
   "cell_type": "code",
   "execution_count": 15,
   "id": "d8d59204",
   "metadata": {},
   "outputs": [
    {
     "data": {
      "text/plain": [
       "{'base model accuracy': 0.9192, 'time inference of base model': 13.884416}"
      ]
     },
     "execution_count": 15,
     "metadata": {},
     "output_type": "execute_result"
    }
   ],
   "source": [
    "Eva_final"
   ]
  },
  {
   "cell_type": "code",
   "execution_count": null,
   "id": "c70aa139",
   "metadata": {},
   "outputs": [],
   "source": []
  }
 ],
 "metadata": {
  "kernelspec": {
   "display_name": "Python 3 (ipykernel)",
   "language": "python",
   "name": "python3"
  },
  "language_info": {
   "codemirror_mode": {
    "name": "ipython",
    "version": 3
   },
   "file_extension": ".py",
   "mimetype": "text/x-python",
   "name": "python",
   "nbconvert_exporter": "python",
   "pygments_lexer": "ipython3",
   "version": "3.10.6"
  }
 },
 "nbformat": 4,
 "nbformat_minor": 5
}
